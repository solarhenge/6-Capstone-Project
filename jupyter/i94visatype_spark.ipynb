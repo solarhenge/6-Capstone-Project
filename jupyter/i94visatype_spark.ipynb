{
 "cells": [
  {
   "cell_type": "markdown",
   "metadata": {},
   "source": [
    "# https://en.m.wikipedia.org/wiki/Visa_policy_of_the_United_States#Classes_of_visas"
   ]
  },
  {
   "cell_type": "code",
   "execution_count": 1,
   "metadata": {},
   "outputs": [],
   "source": [
    "# Do all imports and installs here\n",
    "from pyspark.sql.functions import udf\n",
    "from pyspark.sql.session import SparkSession\n",
    "import datetime\n",
    "import pandas as pd\n",
    "import pyspark.sql.functions as F\n",
    "import psycopg2\n",
    "\n",
    "spark = SparkSession.builder\\\n",
    "                    .config(\"spark.jars.packages\",\"org.apache.hadoop:hadoop-aws:2.7.0\")\\\n",
    "                    .appName(\"project: data engineering capstone project\")\\\n",
    "                    .getOrCreate()\n",
    "\n"
   ]
  },
  {
   "cell_type": "code",
   "execution_count": 3,
   "metadata": {},
   "outputs": [
    {
     "data": {
      "text/html": [
       "<div>\n",
       "<style scoped>\n",
       "    .dataframe tbody tr th:only-of-type {\n",
       "        vertical-align: middle;\n",
       "    }\n",
       "\n",
       "    .dataframe tbody tr th {\n",
       "        vertical-align: top;\n",
       "    }\n",
       "\n",
       "    .dataframe thead th {\n",
       "        text-align: right;\n",
       "    }\n",
       "</style>\n",
       "<table border=\"1\" class=\"dataframe\">\n",
       "  <thead>\n",
       "    <tr style=\"text-align: right;\">\n",
       "      <th></th>\n",
       "      <th>visatype</th>\n",
       "      <th>description</th>\n",
       "    </tr>\n",
       "  </thead>\n",
       "  <tbody>\n",
       "    <tr>\n",
       "      <th>0</th>\n",
       "      <td>A1</td>\n",
       "      <td>Head of state and immediate family, prime mini...</td>\n",
       "    </tr>\n",
       "    <tr>\n",
       "      <th>1</th>\n",
       "      <td>A2</td>\n",
       "      <td>Minister of state, other foreign government of...</td>\n",
       "    </tr>\n",
       "    <tr>\n",
       "      <th>2</th>\n",
       "      <td>A3</td>\n",
       "      <td>Attendant, servant, or personal employee of A1...</td>\n",
       "    </tr>\n",
       "    <tr>\n",
       "      <th>3</th>\n",
       "      <td>B1</td>\n",
       "      <td>Temporary visitor for business, domestic emplo...</td>\n",
       "    </tr>\n",
       "    <tr>\n",
       "      <th>4</th>\n",
       "      <td>B2</td>\n",
       "      <td>Temporary visitor for holiday, tourism, medica...</td>\n",
       "    </tr>\n",
       "  </tbody>\n",
       "</table>\n",
       "</div>"
      ],
      "text/plain": [
       "  visatype                                        description\n",
       "0       A1  Head of state and immediate family, prime mini...\n",
       "1       A2  Minister of state, other foreign government of...\n",
       "2       A3  Attendant, servant, or personal employee of A1...\n",
       "3       B1  Temporary visitor for business, domestic emplo...\n",
       "4       B2  Temporary visitor for holiday, tourism, medica..."
      ]
     },
     "execution_count": 3,
     "metadata": {},
     "output_type": "execute_result"
    }
   ],
   "source": [
    "# Read tsv file(s)\n",
    "tsv_i94visatype = pd.read_csv('D:/Capstone-Project/Project-Workspace/inputs/Classes_of_visas.tsv', sep=r'\\t', engine='python')\n",
    "\n",
    "tsv_i94visatype.head()\n"
   ]
  },
  {
   "cell_type": "code",
   "execution_count": 4,
   "metadata": {},
   "outputs": [
    {
     "name": "stdout",
     "output_type": "stream",
     "text": [
      "root\n",
      " |-- visatype: string (nullable = true)\n",
      " |-- description: string (nullable = true)\n",
      "\n"
     ]
    }
   ],
   "source": [
    "sp_i94visatype = spark.createDataFrame(tsv_i94visatype)\n",
    "\n",
    "sp_i94visatype.printSchema()\n",
    "\n"
   ]
  },
  {
   "cell_type": "code",
   "execution_count": 5,
   "metadata": {},
   "outputs": [],
   "source": [
    "sp_i94visatype.createOrReplaceTempView(\"dim_visatype\")"
   ]
  },
  {
   "cell_type": "code",
   "execution_count": 6,
   "metadata": {},
   "outputs": [
    {
     "name": "stdout",
     "output_type": "stream",
     "text": [
      "+--------+--------------------+\n",
      "|visatype|         description|\n",
      "+--------+--------------------+\n",
      "|      A1|Head of state and...|\n",
      "|      A2|Minister of state...|\n",
      "|      A3|Attendant, servan...|\n",
      "|      B1|Temporary visitor...|\n",
      "|      B2|Temporary visitor...|\n",
      "|   B1/B2|Temporary visitor...|\n",
      "|      C1|   Person in transit|\n",
      "|    C1/D|Combined Transit ...|\n",
      "|      C2|Person in transit...|\n",
      "|      C3|Foreign governmen...|\n",
      "|     CW1|Commonwealth of N...|\n",
      "|     CW2|Spouse or child o...|\n",
      "|       D|Crewmember (sea o...|\n",
      "|      E1|Treaty trader, sp...|\n",
      "|      E2|Treaty investor, ...|\n",
      "|     E2C|Commonwealth of N...|\n",
      "|      E3|Treaty traders an...|\n",
      "|     E3D|Spouse or child o...|\n",
      "|     E3R|        Returning E3|\n",
      "|      F1|Student (academic...|\n",
      "+--------+--------------------+\n",
      "only showing top 20 rows\n",
      "\n"
     ]
    }
   ],
   "source": [
    "spark.sql(\"\"\"\n",
    "select *\n",
    "from dim_visatype\n",
    "where 1 = 1\n",
    "and visatype not like 'NATO%'\n",
    "\"\"\").show()"
   ]
  },
  {
   "cell_type": "code",
   "execution_count": 7,
   "metadata": {},
   "outputs": [],
   "source": [
    "df = spark.sql(\"\"\"\n",
    "select *\n",
    "from dim_visatype\n",
    "where 1 = 1\n",
    "and visatype not like 'NATO%'\n",
    "\"\"\")"
   ]
  },
  {
   "cell_type": "code",
   "execution_count": 8,
   "metadata": {},
   "outputs": [],
   "source": [
    "df.coalesce(1).write.format('json').mode('overwrite').save('D:/capstone/solarhenge/dim_visatype')\n"
   ]
  },
  {
   "cell_type": "code",
   "execution_count": null,
   "metadata": {},
   "outputs": [],
   "source": []
  },
  {
   "cell_type": "code",
   "execution_count": null,
   "metadata": {},
   "outputs": [],
   "source": []
  }
 ],
 "metadata": {
  "kernelspec": {
   "display_name": "Python 3",
   "language": "python",
   "name": "python3"
  },
  "language_info": {
   "codemirror_mode": {
    "name": "ipython",
    "version": 3
   },
   "file_extension": ".py",
   "mimetype": "text/x-python",
   "name": "python",
   "nbconvert_exporter": "python",
   "pygments_lexer": "ipython3",
   "version": "3.7.3"
  }
 },
 "nbformat": 4,
 "nbformat_minor": 2
}
