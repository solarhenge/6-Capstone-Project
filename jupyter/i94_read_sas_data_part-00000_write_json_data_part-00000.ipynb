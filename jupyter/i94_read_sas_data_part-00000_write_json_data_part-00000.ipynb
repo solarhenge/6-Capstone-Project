{
 "cells": [
  {
   "cell_type": "code",
   "execution_count": 1,
   "metadata": {},
   "outputs": [],
   "source": [
    "# Do all imports and installs here\n",
    "from pyspark.sql.functions import udf\n",
    "from pyspark.sql.session import SparkSession\n",
    "import datetime\n",
    "import pandas as pd\n",
    "import pyspark.sql.functions as F\n",
    "import psycopg2\n",
    "from pyspark.sql.types import IntegerType\n",
    "from pyspark.sql.types import TimestampType\n",
    "from pyspark.sql.types import DateType\n",
    "from pyspark.sql import types as T\n"
   ]
  },
  {
   "cell_type": "code",
   "execution_count": 2,
   "metadata": {},
   "outputs": [],
   "source": [
    "spark = SparkSession.builder\\\n",
    "                    .config(\"spark.jars.packages\",\"org.apache.hadoop:hadoop-aws:2.7.0\")\\\n",
    "                    .appName(\"Project: i94\")\\\n",
    "                    .getOrCreate()"
   ]
  },
  {
   "cell_type": "code",
   "execution_count": 3,
   "metadata": {},
   "outputs": [],
   "source": [
    "dir_read = 'D:/Capstone-Project/Project-Workspace/sas_data_part-00000'\n",
    "dir_write = 'D:/Capstone-Project/Project-Workspace/json_data_part-00000/stg_cic'"
   ]
  },
  {
   "cell_type": "code",
   "execution_count": 4,
   "metadata": {},
   "outputs": [],
   "source": [
    "sp_sas_data = spark.read.parquet(dir_read)"
   ]
  },
  {
   "cell_type": "code",
   "execution_count": 5,
   "metadata": {},
   "outputs": [],
   "source": [
    "# drop columns that CIC does not use\n",
    "sp_sas_data = sp_sas_data.drop(\"dtadfile\",\"visapost\",\"occup\",\"entdepa\",\"entdepd\",\"entdepu\",\"dtaddto\")"
   ]
  },
  {
   "cell_type": "code",
   "execution_count": 6,
   "metadata": {},
   "outputs": [
    {
     "name": "stdout",
     "output_type": "stream",
     "text": [
      "root\n",
      " |-- cicid: double (nullable = true)\n",
      " |-- i94yr: double (nullable = true)\n",
      " |-- i94mon: double (nullable = true)\n",
      " |-- i94cit: double (nullable = true)\n",
      " |-- i94res: double (nullable = true)\n",
      " |-- i94port: string (nullable = true)\n",
      " |-- arrdate: double (nullable = true)\n",
      " |-- i94mode: double (nullable = true)\n",
      " |-- i94addr: string (nullable = true)\n",
      " |-- depdate: double (nullable = true)\n",
      " |-- i94bir: double (nullable = true)\n",
      " |-- i94visa: double (nullable = true)\n",
      " |-- count: double (nullable = true)\n",
      " |-- matflag: string (nullable = true)\n",
      " |-- biryear: double (nullable = true)\n",
      " |-- gender: string (nullable = true)\n",
      " |-- insnum: string (nullable = true)\n",
      " |-- airline: string (nullable = true)\n",
      " |-- admnum: double (nullable = true)\n",
      " |-- fltno: string (nullable = true)\n",
      " |-- visatype: string (nullable = true)\n",
      "\n"
     ]
    }
   ],
   "source": [
    "sp_sas_data.printSchema()"
   ]
  },
  {
   "cell_type": "code",
   "execution_count": 7,
   "metadata": {},
   "outputs": [
    {
     "name": "stdout",
     "output_type": "stream",
     "text": [
      "20160430\n"
     ]
    }
   ],
   "source": [
    "# Create a function\n",
    "def convert_5_digit_sasdate_to_yyyymmdd(sasdate):\n",
    "    epoch = datetime.datetime(1960, 1, 1)\n",
    "    return (epoch + datetime.timedelta(days=sasdate)).strftime('%Y%m%d')\n",
    "\n",
    "# Create the UDF\n",
    "convert_5_digit_sasdate_to_yyyymmdd_udf = udf(lambda x: convert_5_digit_sasdate_to_yyyymmdd(x))\n",
    "\n",
    "print(convert_5_digit_sasdate_to_yyyymmdd(20574.0))\n"
   ]
  },
  {
   "cell_type": "code",
   "execution_count": 8,
   "metadata": {},
   "outputs": [
    {
     "name": "stdout",
     "output_type": "stream",
     "text": [
      "Column<b'<lambda>(20160430)'>\n"
     ]
    }
   ],
   "source": [
    "# Create the UDF\n",
    "func_udf =  udf(lambda x: datetime.datetime.strptime(x, '%Y%m%d'), TimestampType())\n",
    "\n",
    "print(func_udf('20160430'))"
   ]
  },
  {
   "cell_type": "code",
   "execution_count": 9,
   "metadata": {},
   "outputs": [],
   "source": [
    "sp_df = sp_sas_data\n",
    "#sp_df = sp_df.drop(\"_c0\")\n",
    "# drop columns that CIC does not use\n",
    "sp_df = sp_df.drop(\"dtadfile\",\"visapost\",\"occup\",\"entdepa\",\"entdepd\",\"entdepu\",\"dtaddto\")\n",
    "sp_df = sp_df.drop(\"i94yr\",\"i94mon\",\"insnum\",\"admnum\")\n",
    "sp_df = sp_df.withColumnRenamed(\"count\", \"i94count\")\n",
    "\n"
   ]
  },
  {
   "cell_type": "code",
   "execution_count": 10,
   "metadata": {},
   "outputs": [
    {
     "name": "stdout",
     "output_type": "stream",
     "text": [
      "root\n",
      " |-- cicid: double (nullable = true)\n",
      " |-- i94cit: double (nullable = true)\n",
      " |-- i94res: double (nullable = true)\n",
      " |-- i94port: string (nullable = true)\n",
      " |-- arrdate: double (nullable = true)\n",
      " |-- i94mode: double (nullable = true)\n",
      " |-- i94addr: string (nullable = true)\n",
      " |-- depdate: double (nullable = true)\n",
      " |-- i94bir: double (nullable = true)\n",
      " |-- i94visa: double (nullable = true)\n",
      " |-- i94count: double (nullable = true)\n",
      " |-- matflag: string (nullable = true)\n",
      " |-- biryear: double (nullable = true)\n",
      " |-- gender: string (nullable = true)\n",
      " |-- airline: string (nullable = true)\n",
      " |-- fltno: string (nullable = true)\n",
      " |-- visatype: string (nullable = true)\n",
      "\n"
     ]
    }
   ],
   "source": [
    "sp_df.printSchema()"
   ]
  },
  {
   "cell_type": "code",
   "execution_count": 11,
   "metadata": {},
   "outputs": [],
   "source": [
    "sp_depdate_nn = sp_df.where(F.col(\"depdate\").isNotNull())\n",
    "sp_depdate_nn = sp_depdate_nn.withColumn('arrdate', convert_5_digit_sasdate_to_yyyymmdd_udf(F.col('arrdate')))\n",
    "sp_depdate_nn = sp_depdate_nn.withColumn('depdate', convert_5_digit_sasdate_to_yyyymmdd_udf(F.col('depdate')))\n"
   ]
  },
  {
   "cell_type": "code",
   "execution_count": 12,
   "metadata": {},
   "outputs": [
    {
     "name": "stdout",
     "output_type": "stream",
     "text": [
      "root\n",
      " |-- cicid: double (nullable = true)\n",
      " |-- i94cit: double (nullable = true)\n",
      " |-- i94res: double (nullable = true)\n",
      " |-- i94port: string (nullable = true)\n",
      " |-- arrdate: string (nullable = true)\n",
      " |-- i94mode: double (nullable = true)\n",
      " |-- i94addr: string (nullable = true)\n",
      " |-- depdate: string (nullable = true)\n",
      " |-- i94bir: double (nullable = true)\n",
      " |-- i94visa: double (nullable = true)\n",
      " |-- i94count: double (nullable = true)\n",
      " |-- matflag: string (nullable = true)\n",
      " |-- biryear: double (nullable = true)\n",
      " |-- gender: string (nullable = true)\n",
      " |-- airline: string (nullable = true)\n",
      " |-- fltno: string (nullable = true)\n",
      " |-- visatype: string (nullable = true)\n",
      "\n"
     ]
    }
   ],
   "source": [
    "sp_depdate_nn.printSchema()"
   ]
  },
  {
   "cell_type": "code",
   "execution_count": 13,
   "metadata": {},
   "outputs": [],
   "source": [
    "#sp_depdate_nn = sp_depdate_nn.withColumn('arrdate', func_udf(F.col('arrdate')))\n",
    "#sp_depdate_nn = sp_depdate_nn.withColumn('depdate', func_udf(F.col('depdate')))\n"
   ]
  },
  {
   "cell_type": "code",
   "execution_count": 14,
   "metadata": {},
   "outputs": [
    {
     "name": "stdout",
     "output_type": "stream",
     "text": [
      "+-----+------+------+-------+--------+-------+-------+--------+------+-------+--------+-------+-------+------+-------+-----+--------+\n",
      "|cicid|i94cit|i94res|i94port| arrdate|i94mode|i94addr| depdate|i94bir|i94visa|i94count|matflag|biryear|gender|airline|fltno|visatype|\n",
      "+-----+------+------+-------+--------+-------+-------+--------+------+-------+--------+-------+-------+------+-------+-----+--------+\n",
      "| 15.0| 101.0| 101.0|    WAS|20160401|    1.0|     MI|20160825|  55.0|    2.0|     1.0|      M| 1961.0|     M|     OS|   93|      B2|\n",
      "| 16.0| 101.0| 101.0|    NYC|20160401|    1.0|     MA|20160423|  28.0|    2.0|     1.0|      M| 1988.0|  null|     AA|00199|      B2|\n",
      "| 17.0| 101.0| 101.0|    NYC|20160401|    1.0|     MA|20160423|   4.0|    2.0|     1.0|      M| 2012.0|  null|     AA|00199|      B2|\n",
      "| 18.0| 101.0| 101.0|    NYC|20160401|    1.0|     MI|20160411|  57.0|    1.0|     1.0|      M| 1959.0|  null|     AZ|00602|      B1|\n",
      "| 19.0| 101.0| 101.0|    NYC|20160401|    1.0|     NJ|20160414|  63.0|    2.0|     1.0|      M| 1953.0|  null|     AZ|00602|      B2|\n",
      "+-----+------+------+-------+--------+-------+-------+--------+------+-------+--------+-------+-------+------+-------+-----+--------+\n",
      "only showing top 5 rows\n",
      "\n"
     ]
    }
   ],
   "source": [
    "sp_depdate_nn.createOrReplaceTempView(\"depdate_nn\")\n",
    "spark.sql(\"\"\"\n",
    "select *\n",
    "from depdate_nn\n",
    "where 1 = 1\n",
    "\"\"\").show(5)"
   ]
  },
  {
   "cell_type": "code",
   "execution_count": 15,
   "metadata": {},
   "outputs": [],
   "source": [
    "sp_depdate_n = sp_df.where(F.col('depdate').isNull())\n",
    "sp_depdate_n = sp_depdate_n.withColumn('arrdate', convert_5_digit_sasdate_to_yyyymmdd_udf(F.col('arrdate')))\n",
    "#sp_depdate_n = sp_depdate_n.withColumn('arrdate', func_udf(F.col('arrdate')))\n",
    "#sp_depdate_n = sp_depdate_n.withColumn('depdate', F.col('depdate').cast(TimestampType()))\n"
   ]
  },
  {
   "cell_type": "code",
   "execution_count": 16,
   "metadata": {},
   "outputs": [
    {
     "name": "stdout",
     "output_type": "stream",
     "text": [
      "+-----+------+------+-------+--------+-------+-------+-------+------+-------+--------+-------+-------+------+-------+-----+--------+\n",
      "|cicid|i94cit|i94res|i94port| arrdate|i94mode|i94addr|depdate|i94bir|i94visa|i94count|matflag|biryear|gender|airline|fltno|visatype|\n",
      "+-----+------+------+-------+--------+-------+-------+-------+------+-------+--------+-------+-------+------+-------+-----+--------+\n",
      "|  6.0| 692.0| 692.0|    XXX|20160429|   null|   null|   null|  37.0|    2.0|     1.0|   null| 1979.0|  null|   null| null|      B2|\n",
      "|  7.0| 254.0| 276.0|    ATL|20160407|    1.0|     AL|   null|  25.0|    3.0|     1.0|   null| 1991.0|     M|   null|00296|      F1|\n",
      "| 34.0| 101.0| 101.0|    NYC|20160401|    1.0|     CT|   null|  48.0|    2.0|     1.0|   null| 1968.0|     M|     AZ|00602|      B2|\n",
      "| 35.0| 101.0| 101.0|    NYC|20160401|    1.0|     CT|   null|  74.0|    2.0|     1.0|   null| 1942.0|     F|     TK|    1|      B2|\n",
      "| 61.0| 102.0| 102.0|    MIA|20160401|    2.0|     FL|   null|  47.0|    2.0|     1.0|   null| 1969.0|     M|    VES|91285|      WT|\n",
      "+-----+------+------+-------+--------+-------+-------+-------+------+-------+--------+-------+-------+------+-------+-----+--------+\n",
      "only showing top 5 rows\n",
      "\n"
     ]
    }
   ],
   "source": [
    "sp_depdate_n.createOrReplaceTempView(\"depdate_n\")\n",
    "spark.sql(\"\"\"\n",
    "select *\n",
    "from depdate_n\n",
    "where 1 = 1\n",
    "\"\"\").show(5)"
   ]
  },
  {
   "cell_type": "code",
   "execution_count": 17,
   "metadata": {},
   "outputs": [],
   "source": [
    "sp_stg_cic = sp_depdate_nn.union(sp_depdate_n)\n"
   ]
  },
  {
   "cell_type": "code",
   "execution_count": 18,
   "metadata": {},
   "outputs": [
    {
     "name": "stdout",
     "output_type": "stream",
     "text": [
      "root\n",
      " |-- cicid: double (nullable = true)\n",
      " |-- i94cit: double (nullable = true)\n",
      " |-- i94res: double (nullable = true)\n",
      " |-- i94port: string (nullable = true)\n",
      " |-- arrdate: string (nullable = true)\n",
      " |-- i94mode: double (nullable = true)\n",
      " |-- i94addr: string (nullable = true)\n",
      " |-- depdate: string (nullable = true)\n",
      " |-- i94bir: double (nullable = true)\n",
      " |-- i94visa: double (nullable = true)\n",
      " |-- i94count: double (nullable = true)\n",
      " |-- matflag: string (nullable = true)\n",
      " |-- biryear: double (nullable = true)\n",
      " |-- gender: string (nullable = true)\n",
      " |-- airline: string (nullable = true)\n",
      " |-- fltno: string (nullable = true)\n",
      " |-- visatype: string (nullable = true)\n",
      "\n"
     ]
    }
   ],
   "source": [
    "sp_stg_cic.printSchema()"
   ]
  },
  {
   "cell_type": "code",
   "execution_count": 19,
   "metadata": {},
   "outputs": [],
   "source": [
    "sp_stg_cic.createOrReplaceTempView(\"stg_cic\")"
   ]
  },
  {
   "cell_type": "code",
   "execution_count": 20,
   "metadata": {},
   "outputs": [
    {
     "name": "stdout",
     "output_type": "stream",
     "text": [
      "+-----+------+------+-------+--------+-------+-------+--------+------+-------+--------+-------+-------+------+-------+-----+--------+\n",
      "|cicid|i94cit|i94res|i94port| arrdate|i94mode|i94addr| depdate|i94bir|i94visa|i94count|matflag|biryear|gender|airline|fltno|visatype|\n",
      "+-----+------+------+-------+--------+-------+-------+--------+------+-------+--------+-------+-------+------+-------+-----+--------+\n",
      "| 15.0| 101.0| 101.0|    WAS|20160401|    1.0|     MI|20160825|  55.0|    2.0|     1.0|      M| 1961.0|     M|     OS|   93|      B2|\n",
      "| 16.0| 101.0| 101.0|    NYC|20160401|    1.0|     MA|20160423|  28.0|    2.0|     1.0|      M| 1988.0|  null|     AA|00199|      B2|\n",
      "| 17.0| 101.0| 101.0|    NYC|20160401|    1.0|     MA|20160423|   4.0|    2.0|     1.0|      M| 2012.0|  null|     AA|00199|      B2|\n",
      "| 18.0| 101.0| 101.0|    NYC|20160401|    1.0|     MI|20160411|  57.0|    1.0|     1.0|      M| 1959.0|  null|     AZ|00602|      B1|\n",
      "| 19.0| 101.0| 101.0|    NYC|20160401|    1.0|     NJ|20160414|  63.0|    2.0|     1.0|      M| 1953.0|  null|     AZ|00602|      B2|\n",
      "+-----+------+------+-------+--------+-------+-------+--------+------+-------+--------+-------+-------+------+-------+-----+--------+\n",
      "only showing top 5 rows\n",
      "\n"
     ]
    }
   ],
   "source": [
    "spark.sql(\"\"\"\n",
    "select *\n",
    "from stg_cic\n",
    "where 1 = 1\n",
    "\"\"\").show(5)"
   ]
  },
  {
   "cell_type": "code",
   "execution_count": 21,
   "metadata": {},
   "outputs": [
    {
     "name": "stdout",
     "output_type": "stream",
     "text": [
      "+-----+------+------+-------+--------+-------+-------+--------+------+-------+--------+-------+-------+------+-------+-----+--------+\n",
      "|cicid|i94cit|i94res|i94port| arrdate|i94mode|i94addr| depdate|i94bir|i94visa|i94count|matflag|biryear|gender|airline|fltno|visatype|\n",
      "+-----+------+------+-------+--------+-------+-------+--------+------+-------+--------+-------+-------+------+-------+-----+--------+\n",
      "| 15.0| 101.0| 101.0|    WAS|20160401|    1.0|     MI|20160825|  55.0|    2.0|     1.0|      M| 1961.0|     M|     OS|   93|      B2|\n",
      "| 16.0| 101.0| 101.0|    NYC|20160401|    1.0|     MA|20160423|  28.0|    2.0|     1.0|      M| 1988.0|  null|     AA|00199|      B2|\n",
      "| 17.0| 101.0| 101.0|    NYC|20160401|    1.0|     MA|20160423|   4.0|    2.0|     1.0|      M| 2012.0|  null|     AA|00199|      B2|\n",
      "| 18.0| 101.0| 101.0|    NYC|20160401|    1.0|     MI|20160411|  57.0|    1.0|     1.0|      M| 1959.0|  null|     AZ|00602|      B1|\n",
      "| 19.0| 101.0| 101.0|    NYC|20160401|    1.0|     NJ|20160414|  63.0|    2.0|     1.0|      M| 1953.0|  null|     AZ|00602|      B2|\n",
      "+-----+------+------+-------+--------+-------+-------+--------+------+-------+--------+-------+-------+------+-------+-----+--------+\n",
      "only showing top 5 rows\n",
      "\n"
     ]
    }
   ],
   "source": [
    "spark.sql(\"\"\"\n",
    "select *\n",
    "from stg_cic\n",
    "where 1 = 1\n",
    "and depdate is not null\n",
    "\"\"\").show(5)"
   ]
  },
  {
   "cell_type": "code",
   "execution_count": 22,
   "metadata": {},
   "outputs": [
    {
     "name": "stdout",
     "output_type": "stream",
     "text": [
      "+-----+------+------+-------+--------+-------+-------+-------+------+-------+--------+-------+-------+------+-------+-----+--------+\n",
      "|cicid|i94cit|i94res|i94port| arrdate|i94mode|i94addr|depdate|i94bir|i94visa|i94count|matflag|biryear|gender|airline|fltno|visatype|\n",
      "+-----+------+------+-------+--------+-------+-------+-------+------+-------+--------+-------+-------+------+-------+-----+--------+\n",
      "|  6.0| 692.0| 692.0|    XXX|20160429|   null|   null|   null|  37.0|    2.0|     1.0|   null| 1979.0|  null|   null| null|      B2|\n",
      "|  7.0| 254.0| 276.0|    ATL|20160407|    1.0|     AL|   null|  25.0|    3.0|     1.0|   null| 1991.0|     M|   null|00296|      F1|\n",
      "| 34.0| 101.0| 101.0|    NYC|20160401|    1.0|     CT|   null|  48.0|    2.0|     1.0|   null| 1968.0|     M|     AZ|00602|      B2|\n",
      "| 35.0| 101.0| 101.0|    NYC|20160401|    1.0|     CT|   null|  74.0|    2.0|     1.0|   null| 1942.0|     F|     TK|    1|      B2|\n",
      "| 61.0| 102.0| 102.0|    MIA|20160401|    2.0|     FL|   null|  47.0|    2.0|     1.0|   null| 1969.0|     M|    VES|91285|      WT|\n",
      "+-----+------+------+-------+--------+-------+-------+-------+------+-------+--------+-------+-------+------+-------+-----+--------+\n",
      "only showing top 5 rows\n",
      "\n"
     ]
    }
   ],
   "source": [
    "spark.sql(\"\"\"\n",
    "select *\n",
    "from stg_cic\n",
    "where 1 = 1\n",
    "and depdate is null\n",
    "\"\"\").show(5)"
   ]
  },
  {
   "cell_type": "code",
   "execution_count": 23,
   "metadata": {},
   "outputs": [
    {
     "name": "stdout",
     "output_type": "stream",
     "text": [
      "root\n",
      " |-- cicid: double (nullable = true)\n",
      " |-- i94cit: double (nullable = true)\n",
      " |-- i94res: double (nullable = true)\n",
      " |-- i94port: string (nullable = true)\n",
      " |-- arrdate: string (nullable = true)\n",
      " |-- i94mode: double (nullable = true)\n",
      " |-- i94addr: string (nullable = true)\n",
      " |-- depdate: string (nullable = true)\n",
      " |-- i94bir: double (nullable = true)\n",
      " |-- i94visa: double (nullable = true)\n",
      " |-- i94count: double (nullable = true)\n",
      " |-- matflag: string (nullable = true)\n",
      " |-- biryear: double (nullable = true)\n",
      " |-- gender: string (nullable = true)\n",
      " |-- airline: string (nullable = true)\n",
      " |-- fltno: string (nullable = true)\n",
      " |-- visatype: string (nullable = true)\n",
      "\n"
     ]
    }
   ],
   "source": [
    "sp_stg_cic.printSchema()"
   ]
  },
  {
   "cell_type": "code",
   "execution_count": 24,
   "metadata": {},
   "outputs": [],
   "source": [
    "sp_stg_cic = sp_stg_cic.withColumn('cicid', F.col('cicid').cast(IntegerType()))\n",
    "sp_stg_cic = sp_stg_cic.withColumn('i94cit', F.col('i94cit').cast(IntegerType()))\n",
    "sp_stg_cic = sp_stg_cic.withColumn('i94res', F.col('i94res').cast(IntegerType()))\n",
    "sp_stg_cic = sp_stg_cic.withColumn('i94mode', F.col('i94mode').cast(IntegerType()))\n",
    "sp_stg_cic = sp_stg_cic.withColumn('i94bir', F.col('i94bir').cast(IntegerType()))\n",
    "sp_stg_cic = sp_stg_cic.withColumn('i94visa', F.col('i94visa').cast(IntegerType()))\n",
    "sp_stg_cic = sp_stg_cic.withColumn('i94count', F.col('i94count').cast(IntegerType()))\n",
    "sp_stg_cic = sp_stg_cic.withColumn('biryear', F.col('biryear').cast(IntegerType()))\n"
   ]
  },
  {
   "cell_type": "code",
   "execution_count": 25,
   "metadata": {},
   "outputs": [
    {
     "name": "stdout",
     "output_type": "stream",
     "text": [
      "root\n",
      " |-- cicid: integer (nullable = true)\n",
      " |-- i94cit: integer (nullable = true)\n",
      " |-- i94res: integer (nullable = true)\n",
      " |-- i94port: string (nullable = true)\n",
      " |-- arrdate: string (nullable = true)\n",
      " |-- i94mode: integer (nullable = true)\n",
      " |-- i94addr: string (nullable = true)\n",
      " |-- depdate: string (nullable = true)\n",
      " |-- i94bir: integer (nullable = true)\n",
      " |-- i94visa: integer (nullable = true)\n",
      " |-- i94count: integer (nullable = true)\n",
      " |-- matflag: string (nullable = true)\n",
      " |-- biryear: integer (nullable = true)\n",
      " |-- gender: string (nullable = true)\n",
      " |-- airline: string (nullable = true)\n",
      " |-- fltno: string (nullable = true)\n",
      " |-- visatype: string (nullable = true)\n",
      "\n"
     ]
    }
   ],
   "source": [
    "sp_stg_cic.printSchema()"
   ]
  },
  {
   "cell_type": "code",
   "execution_count": 26,
   "metadata": {},
   "outputs": [],
   "source": [
    "df = sp_stg_cic.select(sp_stg_cic.cicid\n",
    "                       ,sp_stg_cic.i94cit\n",
    "                       ,sp_stg_cic.i94res\n",
    "                       ,sp_stg_cic.i94port\n",
    "                       ,sp_stg_cic.arrdate\n",
    "                       ,sp_stg_cic.i94mode\n",
    "                       ,sp_stg_cic.i94addr\n",
    "                       ,sp_stg_cic.depdate\n",
    "                       ,sp_stg_cic.i94bir\n",
    "                       ,sp_stg_cic.i94visa\n",
    "                       ,sp_stg_cic.i94count\n",
    "                       ,sp_stg_cic.matflag\n",
    "                       ,sp_stg_cic.biryear\n",
    "                       ,sp_stg_cic.airline\n",
    "                       ,sp_stg_cic.gender\n",
    "                       ,sp_stg_cic.fltno\n",
    "                       ,sp_stg_cic.visatype\n",
    "                       )"
   ]
  },
  {
   "cell_type": "code",
   "execution_count": 27,
   "metadata": {},
   "outputs": [],
   "source": [
    "df.createOrReplaceTempView(\"df\")"
   ]
  },
  {
   "cell_type": "code",
   "execution_count": 28,
   "metadata": {},
   "outputs": [
    {
     "name": "stdout",
     "output_type": "stream",
     "text": [
      "+--------+\n",
      "|count(1)|\n",
      "+--------+\n",
      "|  219268|\n",
      "+--------+\n",
      "\n"
     ]
    }
   ],
   "source": [
    "spark.sql(\"\"\"\n",
    "select count(*)\n",
    "from df\n",
    "where 1 = 1\n",
    "\"\"\").show()"
   ]
  },
  {
   "cell_type": "code",
   "execution_count": 29,
   "metadata": {},
   "outputs": [],
   "source": [
    "df.coalesce(1).write.format('json').mode('overwrite').save(dir_write)"
   ]
  },
  {
   "cell_type": "code",
   "execution_count": null,
   "metadata": {},
   "outputs": [],
   "source": []
  }
 ],
 "metadata": {
  "kernelspec": {
   "display_name": "Python 3",
   "language": "python",
   "name": "python3"
  },
  "language_info": {
   "codemirror_mode": {
    "name": "ipython",
    "version": 3
   },
   "file_extension": ".py",
   "mimetype": "text/x-python",
   "name": "python",
   "nbconvert_exporter": "python",
   "pygments_lexer": "ipython3",
   "version": "3.7.3"
  }
 },
 "nbformat": 4,
 "nbformat_minor": 2
}
