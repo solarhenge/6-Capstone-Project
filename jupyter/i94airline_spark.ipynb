{
 "cells": [
  {
   "cell_type": "markdown",
   "metadata": {},
   "source": [
    "# https://www.iata.org/about/members/Pages/airline-list.aspx?All=true"
   ]
  },
  {
   "cell_type": "code",
   "execution_count": 1,
   "metadata": {},
   "outputs": [],
   "source": [
    "# Do all imports and installs here\n",
    "from pyspark.sql.functions import udf\n",
    "from pyspark.sql.session import SparkSession\n",
    "import datetime\n",
    "import pandas as pd\n",
    "import pyspark.sql.functions as F\n",
    "import psycopg2"
   ]
  },
  {
   "cell_type": "code",
   "execution_count": 2,
   "metadata": {},
   "outputs": [],
   "source": [
    "spark = SparkSession.builder\\\n",
    "                    .config(\"spark.jars.packages\",\"org.apache.hadoop:hadoop-aws:2.7.0\")\\\n",
    "                    .appName(\"Project: i94\")\\\n",
    "                    .getOrCreate()"
   ]
  },
  {
   "cell_type": "code",
   "execution_count": 3,
   "metadata": {},
   "outputs": [
    {
     "data": {
      "text/html": [
       "<div>\n",
       "<style scoped>\n",
       "    .dataframe tbody tr th:only-of-type {\n",
       "        vertical-align: middle;\n",
       "    }\n",
       "\n",
       "    .dataframe tbody tr th {\n",
       "        vertical-align: top;\n",
       "    }\n",
       "\n",
       "    .dataframe thead th {\n",
       "        text-align: right;\n",
       "    }\n",
       "</style>\n",
       "<table border=\"1\" class=\"dataframe\">\n",
       "  <thead>\n",
       "    <tr style=\"text-align: right;\">\n",
       "      <th></th>\n",
       "      <th>airline_name</th>\n",
       "      <th>airline</th>\n",
       "      <th>iata_code</th>\n",
       "      <th>icao_designator</th>\n",
       "      <th>country_territory</th>\n",
       "    </tr>\n",
       "  </thead>\n",
       "  <tbody>\n",
       "    <tr>\n",
       "      <th>0</th>\n",
       "      <td>Adria Airways</td>\n",
       "      <td>JP</td>\n",
       "      <td>165</td>\n",
       "      <td>ADR</td>\n",
       "      <td>Slovenia</td>\n",
       "    </tr>\n",
       "    <tr>\n",
       "      <th>1</th>\n",
       "      <td>Aegean Airlines</td>\n",
       "      <td>A3</td>\n",
       "      <td>390</td>\n",
       "      <td>AEE</td>\n",
       "      <td>Greece</td>\n",
       "    </tr>\n",
       "    <tr>\n",
       "      <th>2</th>\n",
       "      <td>Aer Lingus</td>\n",
       "      <td>EI</td>\n",
       "      <td>053</td>\n",
       "      <td>EIN</td>\n",
       "      <td>Ireland</td>\n",
       "    </tr>\n",
       "    <tr>\n",
       "      <th>3</th>\n",
       "      <td>Aero Republica</td>\n",
       "      <td>P5</td>\n",
       "      <td>845</td>\n",
       "      <td>RPB</td>\n",
       "      <td>Colombia</td>\n",
       "    </tr>\n",
       "    <tr>\n",
       "      <th>4</th>\n",
       "      <td>Aeroflot</td>\n",
       "      <td>SU</td>\n",
       "      <td>555</td>\n",
       "      <td>AFL</td>\n",
       "      <td>Russian Federation</td>\n",
       "    </tr>\n",
       "  </tbody>\n",
       "</table>\n",
       "</div>"
      ],
      "text/plain": [
       "      airline_name airline iata_code icao_designator   country_territory\n",
       "0    Adria Airways      JP       165             ADR            Slovenia\n",
       "1  Aegean Airlines      A3       390             AEE              Greece\n",
       "2       Aer Lingus      EI       053             EIN             Ireland\n",
       "3   Aero Republica      P5       845             RPB            Colombia\n",
       "4         Aeroflot      SU       555             AFL  Russian Federation"
      ]
     },
     "execution_count": 3,
     "metadata": {},
     "output_type": "execute_result"
    }
   ],
   "source": [
    "# Read tsv file(s)\n",
    "tsv_i94airline = pd.read_csv('D:/Capstone-Project/Project-Workspace/inputs/Current_Airline_Members.tsv', sep=r'\\t', engine='python')\n",
    "\n",
    "tsv_i94airline.head()\n"
   ]
  },
  {
   "cell_type": "code",
   "execution_count": 4,
   "metadata": {},
   "outputs": [],
   "source": [
    "tsv_i94airline = tsv_i94airline.dropna()"
   ]
  },
  {
   "cell_type": "code",
   "execution_count": 5,
   "metadata": {},
   "outputs": [
    {
     "data": {
      "text/html": [
       "<div>\n",
       "<style scoped>\n",
       "    .dataframe tbody tr th:only-of-type {\n",
       "        vertical-align: middle;\n",
       "    }\n",
       "\n",
       "    .dataframe tbody tr th {\n",
       "        vertical-align: top;\n",
       "    }\n",
       "\n",
       "    .dataframe thead th {\n",
       "        text-align: right;\n",
       "    }\n",
       "</style>\n",
       "<table border=\"1\" class=\"dataframe\">\n",
       "  <thead>\n",
       "    <tr style=\"text-align: right;\">\n",
       "      <th></th>\n",
       "      <th>airline_name</th>\n",
       "      <th>airline</th>\n",
       "      <th>iata_code</th>\n",
       "      <th>icao_designator</th>\n",
       "      <th>country_territory</th>\n",
       "    </tr>\n",
       "  </thead>\n",
       "  <tbody>\n",
       "    <tr>\n",
       "      <th>0</th>\n",
       "      <td>Adria Airways</td>\n",
       "      <td>JP</td>\n",
       "      <td>165</td>\n",
       "      <td>ADR</td>\n",
       "      <td>Slovenia</td>\n",
       "    </tr>\n",
       "    <tr>\n",
       "      <th>1</th>\n",
       "      <td>Aegean Airlines</td>\n",
       "      <td>A3</td>\n",
       "      <td>390</td>\n",
       "      <td>AEE</td>\n",
       "      <td>Greece</td>\n",
       "    </tr>\n",
       "    <tr>\n",
       "      <th>2</th>\n",
       "      <td>Aer Lingus</td>\n",
       "      <td>EI</td>\n",
       "      <td>053</td>\n",
       "      <td>EIN</td>\n",
       "      <td>Ireland</td>\n",
       "    </tr>\n",
       "    <tr>\n",
       "      <th>3</th>\n",
       "      <td>Aero Republica</td>\n",
       "      <td>P5</td>\n",
       "      <td>845</td>\n",
       "      <td>RPB</td>\n",
       "      <td>Colombia</td>\n",
       "    </tr>\n",
       "    <tr>\n",
       "      <th>4</th>\n",
       "      <td>Aeroflot</td>\n",
       "      <td>SU</td>\n",
       "      <td>555</td>\n",
       "      <td>AFL</td>\n",
       "      <td>Russian Federation</td>\n",
       "    </tr>\n",
       "  </tbody>\n",
       "</table>\n",
       "</div>"
      ],
      "text/plain": [
       "      airline_name airline iata_code icao_designator   country_territory\n",
       "0    Adria Airways      JP       165             ADR            Slovenia\n",
       "1  Aegean Airlines      A3       390             AEE              Greece\n",
       "2       Aer Lingus      EI       053             EIN             Ireland\n",
       "3   Aero Republica      P5       845             RPB            Colombia\n",
       "4         Aeroflot      SU       555             AFL  Russian Federation"
      ]
     },
     "execution_count": 5,
     "metadata": {},
     "output_type": "execute_result"
    }
   ],
   "source": [
    "tsv_i94airline.head()"
   ]
  },
  {
   "cell_type": "code",
   "execution_count": 6,
   "metadata": {},
   "outputs": [],
   "source": [
    "sp_i94airline = spark.createDataFrame(tsv_i94airline)"
   ]
  },
  {
   "cell_type": "code",
   "execution_count": 7,
   "metadata": {},
   "outputs": [
    {
     "name": "stdout",
     "output_type": "stream",
     "text": [
      "root\n",
      " |-- airline_name: string (nullable = true)\n",
      " |-- airline: string (nullable = true)\n",
      " |-- iata_code: string (nullable = true)\n",
      " |-- icao_designator: string (nullable = true)\n",
      " |-- country_territory: string (nullable = true)\n",
      "\n"
     ]
    }
   ],
   "source": [
    "sp_i94airline.printSchema()"
   ]
  },
  {
   "cell_type": "code",
   "execution_count": 8,
   "metadata": {},
   "outputs": [],
   "source": [
    "sp_i94airline.coalesce(1).write.format('json').mode('overwrite').save('D:/capstone/solarhenge/dim_airline')\n"
   ]
  },
  {
   "cell_type": "code",
   "execution_count": 5,
   "metadata": {},
   "outputs": [],
   "source": [
    "conn = psycopg2.connect(\"host=127.0.0.1 dbname=i94 user=i94user password=Passw0rd\")\n",
    "cur = conn.cursor()\n",
    "\n",
    "delete_from_dim_airline = (\"\"\"\n",
    "delete from dim_airline;\n",
    "\"\"\")\n",
    "\n",
    "insert_into_dim_airline = (\"\"\"\n",
    "insert into dim_airline\n",
    "(airline_name\n",
    ",airline\n",
    ",\"3_digit_code\"\n",
    ",icao_designator\n",
    ",country_territory\n",
    ") values \n",
    "(%s\n",
    ",%s\n",
    ",%s\n",
    ",%s\n",
    ",%s\n",
    ");\n",
    "\"\"\")\n",
    "\n",
    "# a function to insert records\n",
    "def insert_dim_airline_records(cur, airline_df):\n",
    "    for i, row in airline_df.iterrows():\n",
    "        #print('i =',i)\n",
    "        #print('row =',row)\n",
    "        cur.execute(insert_into_dim_airline,row)\n",
    "        \n",
    "# delete records\n",
    "cur.execute(delete_from_dim_airline)\n",
    "\n",
    "# insert records\n",
    "insert_dim_airline_records(cur, tsv_i94airline)\n",
    "\n",
    "conn.commit()\n",
    "conn.close()\n"
   ]
  },
  {
   "cell_type": "code",
   "execution_count": null,
   "metadata": {},
   "outputs": [],
   "source": []
  }
 ],
 "metadata": {
  "kernelspec": {
   "display_name": "Python 3",
   "language": "python",
   "name": "python3"
  },
  "language_info": {
   "codemirror_mode": {
    "name": "ipython",
    "version": 3
   },
   "file_extension": ".py",
   "mimetype": "text/x-python",
   "name": "python",
   "nbconvert_exporter": "python",
   "pygments_lexer": "ipython3",
   "version": "3.7.3"
  }
 },
 "nbformat": 4,
 "nbformat_minor": 2
}
