{
 "cells": [
  {
   "cell_type": "markdown",
   "metadata": {},
   "source": [
    "# https://redbus2us.com/travel/usa/us-customs-and-border-protection-cbp-codes-port-of-entry-stamp/"
   ]
  },
  {
   "cell_type": "code",
   "execution_count": 1,
   "metadata": {},
   "outputs": [],
   "source": [
    "# Do all imports and installs here\n",
    "from pyspark.sql.functions import udf\n",
    "from pyspark.sql.session import SparkSession\n",
    "import datetime\n",
    "import pandas as pd\n",
    "import pyspark.sql.functions as F\n",
    "import psycopg2\n",
    "\n",
    "spark = SparkSession.builder\\\n",
    "                    .config(\"spark.jars.packages\",\"org.apache.hadoop:hadoop-aws:2.7.0\")\\\n",
    "                    .appName(\"project: data engineering capstone project\")\\\n",
    "                    .getOrCreate()\n",
    "\n"
   ]
  },
  {
   "cell_type": "code",
   "execution_count": 2,
   "metadata": {},
   "outputs": [
    {
     "data": {
      "text/html": [
       "<div>\n",
       "<style scoped>\n",
       "    .dataframe tbody tr th:only-of-type {\n",
       "        vertical-align: middle;\n",
       "    }\n",
       "\n",
       "    .dataframe tbody tr th {\n",
       "        vertical-align: top;\n",
       "    }\n",
       "\n",
       "    .dataframe thead th {\n",
       "        text-align: right;\n",
       "    }\n",
       "</style>\n",
       "<table border=\"1\" class=\"dataframe\">\n",
       "  <thead>\n",
       "    <tr style=\"text-align: right;\">\n",
       "      <th></th>\n",
       "      <th>i94port</th>\n",
       "      <th>us_port_of_entry_location</th>\n",
       "    </tr>\n",
       "  </thead>\n",
       "  <tbody>\n",
       "    <tr>\n",
       "      <th>0</th>\n",
       "      <td>ABE</td>\n",
       "      <td>Aberdeen, WA</td>\n",
       "    </tr>\n",
       "    <tr>\n",
       "      <th>1</th>\n",
       "      <td>ABG</td>\n",
       "      <td>Alburg, VT</td>\n",
       "    </tr>\n",
       "    <tr>\n",
       "      <th>2</th>\n",
       "      <td>ABQ</td>\n",
       "      <td>Albuquerque, NM</td>\n",
       "    </tr>\n",
       "    <tr>\n",
       "      <th>3</th>\n",
       "      <td>ABS</td>\n",
       "      <td>Alburg Springs, VT</td>\n",
       "    </tr>\n",
       "    <tr>\n",
       "      <th>4</th>\n",
       "      <td>ADT</td>\n",
       "      <td>Amistad Dam, TX</td>\n",
       "    </tr>\n",
       "  </tbody>\n",
       "</table>\n",
       "</div>"
      ],
      "text/plain": [
       "  i94port us_port_of_entry_location\n",
       "0     ABE              Aberdeen, WA\n",
       "1     ABG                Alburg, VT\n",
       "2     ABQ           Albuquerque, NM\n",
       "3     ABS        Alburg Springs, VT\n",
       "4     ADT           Amistad Dam, TX"
      ]
     },
     "execution_count": 2,
     "metadata": {},
     "output_type": "execute_result"
    }
   ],
   "source": [
    "# Read tsv file(s)\n",
    "tsv_i94port = pd.read_csv('D:/Capstone-Project/Project-Workspace/inputs/US_Customs_and_Border_Protection_Port_of_Entry_Codes.tsv', sep=r'\\t', engine='python')\n",
    "\n",
    "tsv_i94port.head()\n"
   ]
  },
  {
   "cell_type": "code",
   "execution_count": 3,
   "metadata": {},
   "outputs": [
    {
     "name": "stdout",
     "output_type": "stream",
     "text": [
      "root\n",
      " |-- i94port: string (nullable = true)\n",
      " |-- us_port_of_entry_location: string (nullable = true)\n",
      "\n"
     ]
    }
   ],
   "source": [
    "sp_i94port = spark.createDataFrame(tsv_i94port)\n",
    "\n",
    "sp_i94port.printSchema()\n",
    "\n"
   ]
  },
  {
   "cell_type": "code",
   "execution_count": 4,
   "metadata": {},
   "outputs": [],
   "source": [
    "sp_i94port.createOrReplaceTempView(\"dim_port\")"
   ]
  },
  {
   "cell_type": "code",
   "execution_count": 5,
   "metadata": {},
   "outputs": [
    {
     "name": "stdout",
     "output_type": "stream",
     "text": [
      "+-------+-------------------------+\n",
      "|i94port|us_port_of_entry_location|\n",
      "+-------+-------------------------+\n",
      "|    ABE|             Aberdeen, WA|\n",
      "|    ABG|               Alburg, VT|\n",
      "|    ABQ|          Albuquerque, NM|\n",
      "|    ABS|       Alburg Springs, VT|\n",
      "|    ADT|          Amistad Dam, TX|\n",
      "|    AGA|              Agana, Guam|\n",
      "|    AGM|               Algoma, WI|\n",
      "|    AGN|              Algonac, MI|\n",
      "|    AGU|             Mayaguez, PR|\n",
      "|    AKR|                Akron, OH|\n",
      "|    ALB|               Albany, NY|\n",
      "|    ALC|                Alcan, AK|\n",
      "|    ALP|               Alpena, MI|\n",
      "|    AMB|              Ambrose, ND|\n",
      "|    ANA|            Anacortes, WA|\n",
      "|    ANC|            Anchorage, AK|\n",
      "|    AND|              Andrade, CA|\n",
      "|    ANP|       Antelope Wells, NM|\n",
      "|    ANT|               Antler, ND|\n",
      "|    ANZ|            Anzaldaus, TX|\n",
      "+-------+-------------------------+\n",
      "only showing top 20 rows\n",
      "\n"
     ]
    }
   ],
   "source": [
    "spark.sql(\"\"\"\n",
    "select *\n",
    "from dim_port\n",
    "where 1 = 1\n",
    "\"\"\").show()"
   ]
  },
  {
   "cell_type": "code",
   "execution_count": 6,
   "metadata": {},
   "outputs": [],
   "source": [
    "sp_i94port.coalesce(1).write.format('json').mode('overwrite').save('D:/capstone/solarhenge/dim_port')\n"
   ]
  },
  {
   "cell_type": "code",
   "execution_count": null,
   "metadata": {},
   "outputs": [],
   "source": []
  },
  {
   "cell_type": "code",
   "execution_count": null,
   "metadata": {},
   "outputs": [],
   "source": []
  }
 ],
 "metadata": {
  "kernelspec": {
   "display_name": "Python 3",
   "language": "python",
   "name": "python3"
  },
  "language_info": {
   "codemirror_mode": {
    "name": "ipython",
    "version": 3
   },
   "file_extension": ".py",
   "mimetype": "text/x-python",
   "name": "python",
   "nbconvert_exporter": "python",
   "pygments_lexer": "ipython3",
   "version": "3.7.3"
  }
 },
 "nbformat": 4,
 "nbformat_minor": 2
}
