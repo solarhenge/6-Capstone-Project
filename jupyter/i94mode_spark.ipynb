{
 "cells": [
  {
   "cell_type": "code",
   "execution_count": 1,
   "metadata": {},
   "outputs": [
    {
     "name": "stdout",
     "output_type": "stream",
     "text": [
      "root\n",
      " |-- i94mode: long (nullable = true)\n",
      " |-- modename: string (nullable = true)\n",
      "\n"
     ]
    }
   ],
   "source": [
    "# Do all imports and installs here\n",
    "from pyspark.sql.functions import udf\n",
    "from pyspark.sql.session import SparkSession\n",
    "import datetime\n",
    "import pandas as pd\n",
    "import pyspark.sql.functions as F\n",
    "import psycopg2\n",
    "\n",
    "spark = SparkSession.builder\\\n",
    "                    .config(\"spark.jars.packages\",\"org.apache.hadoop:hadoop-aws:2.7.0\")\\\n",
    "                    .appName(\"project: data engineering capstone project\")\\\n",
    "                    .getOrCreate()\n",
    "\n",
    "# Read csv file(s)\n",
    "csv_i94mode = pd.read_csv('D:/Capstone-Project/Project-Workspace/inputs/i94mode.csv', quotechar=\"'\")\n",
    "\n",
    "csv_i94mode.head()\n",
    "\n",
    "sp_i94mode = spark.createDataFrame(csv_i94mode)\n",
    "\n",
    "sp_i94mode.printSchema()\n",
    "\n",
    "sp_i94mode.coalesce(1).write.format('json').mode('overwrite').save('D:/capstone/solarhenge/dim_mode')\n"
   ]
  },
  {
   "cell_type": "code",
   "execution_count": null,
   "metadata": {},
   "outputs": [],
   "source": []
  }
 ],
 "metadata": {
  "kernelspec": {
   "display_name": "Python 3",
   "language": "python",
   "name": "python3"
  },
  "language_info": {
   "codemirror_mode": {
    "name": "ipython",
    "version": 3
   },
   "file_extension": ".py",
   "mimetype": "text/x-python",
   "name": "python",
   "nbconvert_exporter": "python",
   "pygments_lexer": "ipython3",
   "version": "3.7.3"
  }
 },
 "nbformat": 4,
 "nbformat_minor": 2
}
