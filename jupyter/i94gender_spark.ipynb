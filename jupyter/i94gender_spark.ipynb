{
 "cells": [
  {
   "cell_type": "code",
   "execution_count": 1,
   "metadata": {},
   "outputs": [
    {
     "data": {
      "text/html": [
       "<div>\n",
       "<style scoped>\n",
       "    .dataframe tbody tr th:only-of-type {\n",
       "        vertical-align: middle;\n",
       "    }\n",
       "\n",
       "    .dataframe tbody tr th {\n",
       "        vertical-align: top;\n",
       "    }\n",
       "\n",
       "    .dataframe thead th {\n",
       "        text-align: right;\n",
       "    }\n",
       "</style>\n",
       "<table border=\"1\" class=\"dataframe\">\n",
       "  <thead>\n",
       "    <tr style=\"text-align: right;\">\n",
       "      <th></th>\n",
       "      <th>gender</th>\n",
       "      <th>gendername</th>\n",
       "    </tr>\n",
       "  </thead>\n",
       "  <tbody>\n",
       "    <tr>\n",
       "      <th>0</th>\n",
       "      <td>F</td>\n",
       "      <td>Female</td>\n",
       "    </tr>\n",
       "    <tr>\n",
       "      <th>1</th>\n",
       "      <td>M</td>\n",
       "      <td>Male</td>\n",
       "    </tr>\n",
       "    <tr>\n",
       "      <th>2</th>\n",
       "      <td>X</td>\n",
       "      <td>Other</td>\n",
       "    </tr>\n",
       "  </tbody>\n",
       "</table>\n",
       "</div>"
      ],
      "text/plain": [
       "  gender gendername\n",
       "0      F     Female\n",
       "1      M       Male\n",
       "2      X      Other"
      ]
     },
     "execution_count": 1,
     "metadata": {},
     "output_type": "execute_result"
    }
   ],
   "source": [
    "# Do all imports and installs here\n",
    "from pyspark.sql.functions import udf\n",
    "from pyspark.sql.session import SparkSession\n",
    "import datetime\n",
    "import pandas as pd\n",
    "import pyspark.sql.functions as F\n",
    "import psycopg2\n",
    "\n",
    "spark = SparkSession.builder\\\n",
    "                    .config(\"spark.jars.packages\",\"org.apache.hadoop:hadoop-aws:2.7.0\")\\\n",
    "                    .appName(\"project: data engineering capstone project\")\\\n",
    "                    .getOrCreate()\n",
    "\n",
    "# Read csv file(s)\n",
    "csv_i94gender = pd.read_csv('D:/Capstone-Project/Project-Workspace/inputs/i94gender.csv', quotechar=\"'\")\n",
    "\n",
    "csv_i94gender.head()\n",
    "\n"
   ]
  },
  {
   "cell_type": "code",
   "execution_count": 2,
   "metadata": {},
   "outputs": [
    {
     "name": "stdout",
     "output_type": "stream",
     "text": [
      "root\n",
      " |-- gender: string (nullable = true)\n",
      " |-- gendername: string (nullable = true)\n",
      "\n"
     ]
    }
   ],
   "source": [
    "sp_i94gender = spark.createDataFrame(csv_i94gender)\n",
    "\n",
    "sp_i94gender.printSchema()\n",
    "\n",
    "sp_i94gender.coalesce(1).write.format('json').mode('overwrite').save('D:/capstone/solarhenge/dim_gender')\n"
   ]
  },
  {
   "cell_type": "code",
   "execution_count": null,
   "metadata": {},
   "outputs": [],
   "source": []
  }
 ],
 "metadata": {
  "kernelspec": {
   "display_name": "Python 3",
   "language": "python",
   "name": "python3"
  },
  "language_info": {
   "codemirror_mode": {
    "name": "ipython",
    "version": 3
   },
   "file_extension": ".py",
   "mimetype": "text/x-python",
   "name": "python",
   "nbconvert_exporter": "python",
   "pygments_lexer": "ipython3",
   "version": "3.7.3"
  }
 },
 "nbformat": 4,
 "nbformat_minor": 2
}
